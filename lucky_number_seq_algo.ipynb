{
 "cells": [
  {
   "cell_type": "code",
   "execution_count": 9,
   "metadata": {
    "collapsed": false
   },
   "outputs": [
    {
     "name": "stdout",
     "output_type": "stream",
     "text": [
      "Our input list is:\n",
      "[1, 2, 3, 4, 5, 6, 7, 8, 9, 10, 11, 12, 13, 14, 15, 16, 17, 18, 19, 20, 21, 22, 23, 24, 25, 26, 27, 28, 29, 30, 31, 32, 33, 34, 35, 36, 37, 38, 39, 40, 41, 42, 43, 44, 45, 46, 47, 48, 49, 50]\n",
      "\n",
      "Our final list is:\n",
      "[1, 3, 7, 9, 13, 15, 21, 25, 31, 33, 37, 43, 49]\n",
      "\n",
      "Verify the resulting sequence here: https://en.wikipedia.org/wiki/Lucky_number\n"
     ]
    }
   ],
   "source": [
    "# This was a programming problem I was given at an interview in late 2017.\n",
    "# It was not a developer role, but it was considered a good Python test for a data scientist!\n",
    "# This does test a bit more than just Python however, as it is a recursive problem.\n",
    "\n",
    "\n",
    "new_list = [i for i in xrange(1, 50 + 1)]\n",
    "print \"Our input list is:\\n{}\\n\".format(new_list)\n",
    "\n",
    "def lucky_number_sieve(list_, elimination_step_index, iteration):\n",
    "    # This will be the list we remove from our original list\n",
    "    remove_list = []\n",
    "    # This is the list element which gives us the nth number to eliminate from our input set.\n",
    "    elimination_step = list_[elimination_step_index]\n",
    "    # We include all elements marked for elimination in our remove list.\n",
    "    # The trick is to check if each index + 1 (Python is 0 indexed) is divisible by the elimination step.\n",
    "    remove_list = [i for i in list_ if (list_.index(i) + 1) % elimination_step == 0]\n",
    "    # If the list is still empty, then we have reached our base condition / leaf node / final list.\n",
    "    if len(remove_list) == 0:\n",
    "        return list_\n",
    "    else:\n",
    "        # Filter our list, increment our iterator and step value index, and go again!\n",
    "        list_ = [i for i in list_ if i not in remove_list]\n",
    "        if iteration == 1:\n",
    "            iteration += 1\n",
    "            return lucky_number_sieve(list_, elimination_step_index, iteration)\n",
    "        else:\n",
    "            iteration += 1\n",
    "            elimination_step_index += 1\n",
    "            return lucky_number_sieve(list_, elimination_step_index, iteration)\n",
    "\n",
    "\n",
    "print \"Our final list is:\\n{}\\n\".format(lucky_number_sieve(new_list, 1, 1))\n",
    "print\"Verify the resulting sequence here: https://en.wikipedia.org/wiki/Lucky_number\""
   ]
  }
 ],
 "metadata": {
  "anaconda-cloud": {},
  "kernelspec": {
   "display_name": "Python 2",
   "language": "python",
   "name": "python2"
  },
  "language_info": {
   "codemirror_mode": {
    "name": "ipython",
    "version": 2
   },
   "file_extension": ".py",
   "mimetype": "text/x-python",
   "name": "python",
   "nbconvert_exporter": "python",
   "pygments_lexer": "ipython2",
   "version": "2.7.13"
  }
 },
 "nbformat": 4,
 "nbformat_minor": 0
}
