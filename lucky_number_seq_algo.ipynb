{
 "cells": [
  {
   "cell_type": "code",
   "execution_count": 4,
   "metadata": {
    "collapsed": false
   },
   "outputs": [
    {
     "name": "stdout",
     "output_type": "stream",
     "text": [
      "[1, 2, 3, 4, 5, 6, 7, 8, 9, 10, 11, 12, 13, 14, 15, 16, 17, 18, 19, 20, 21, 22, 23, 24, 25, 26, 27, 28, 29, 30, 31, 32, 33, 34, 35, 36, 37, 38, 39, 40, 41, 42, 43, 44, 45, 46, 47, 48, 49, 50]\n"
     ]
    },
    {
     "data": {
      "text/plain": [
       "[1, 3, 7, 9, 13, 15, 21, 25, 31, 33, 37, 43, 49]"
      ]
     },
     "execution_count": 4,
     "metadata": {},
     "output_type": "execute_result"
    }
   ],
   "source": [
    "# This was a programming problem I was given during an interview in late 2017 at a hedge fund that shall remain unnamed.\n",
    "# The role was not a developer role, but they thought it a good test of Python knowledge for a data scientist anyway!\n",
    "# Anyway, I thought I'd share this with you all.\n",
    "# Verify the resulting sequence here: https://en.wikipedia.org/wiki/Lucky_number\n",
    "\n",
    "new_list = [i for i in xrange(1, 50 + 1)]\n",
    "print new_list\n",
    "\n",
    "def lucky_number_sieve(list_, elimination_step_index, iteration):\n",
    "    remove_set = []\n",
    "    elimination_step = list_[elimination_step_index]\n",
    "    remove_set = [i for i in list_ if (list_.index(i) + 1) % elimination_step == 0]\n",
    "    if len(remove_set) == 0:\n",
    "        return list_\n",
    "    else:\n",
    "        list_ = [i for i in list_ if i not in remove_set]\n",
    "        if iteration == 1:\n",
    "            iteration += 1\n",
    "            return lucky_number_sieve(list_, elimination_step_index, iteration)\n",
    "        else:\n",
    "            iteration += 1\n",
    "            elimination_step_index += 1\n",
    "            return lucky_number_sieve(list_, elimination_step_index, iteration)\n",
    "\n",
    "\n",
    "lucky_number_sieve(new_list, 1, 1)"
   ]
  },
  {
   "cell_type": "code",
   "execution_count": 90,
   "metadata": {
    "collapsed": false
   },
   "outputs": [
    {
     "name": "stdout",
     "output_type": "stream",
     "text": [
      "[1, 2, 3, 4, 5, 6, 7, 8, 9, 10, 11, 12, 13, 14, 15, 16, 17, 18, 19, 20, 21, 22, 23, 24, 25, 26, 27, 28, 29, 30, 31, 32, 33, 34, 35, 36, 37, 38, 39, 40, 41, 42, 43, 44, 45, 46, 47, 48, 49, 50]\n",
      "[1, 3, 5, 7, 9, 11, 13, 15, 17, 19, 21, 23, 25, 27, 29, 31, 33, 35, 37, 39, 41, 43, 45, 47, 49]\n"
     ]
    }
   ],
   "source": [
    "some_list = list(xrange(1, 51))\n",
    "print some_list\n",
    "\n",
    "divisible_by_2 = [i for i in some_list if some_list.index(i) % 2 == 0]\n",
    "print divisible_by_2"
   ]
  },
  {
   "cell_type": "code",
   "execution_count": 99,
   "metadata": {
    "collapsed": false
   },
   "outputs": [
    {
     "data": {
      "text/plain": [
       "0"
      ]
     },
     "execution_count": 99,
     "metadata": {},
     "output_type": "execute_result"
    }
   ],
   "source": [
    "2%2"
   ]
  }
 ],
 "metadata": {
  "anaconda-cloud": {},
  "kernelspec": {
   "display_name": "Python 2",
   "language": "python",
   "name": "python2"
  },
  "language_info": {
   "codemirror_mode": {
    "name": "ipython",
    "version": 2
   },
   "file_extension": ".py",
   "mimetype": "text/x-python",
   "name": "python",
   "nbconvert_exporter": "python",
   "pygments_lexer": "ipython2",
   "version": "2.7.13"
  }
 },
 "nbformat": 4,
 "nbformat_minor": 0
}
